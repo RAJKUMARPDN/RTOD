{
 "cells": [
  {
   "cell_type": "markdown",
   "id": "50b7b8ec-a1e3-4305-a948-d6a079688c24",
   "metadata": {},
   "source": [
    "# Installing modules and packages"
   ]
  },
  {
   "cell_type": "code",
   "execution_count": 8,
   "id": "0afd0a26-e45b-4bf0-8203-ed31bedaf5f2",
   "metadata": {},
   "outputs": [],
   "source": [
    "import tkinter as tk\n",
    "from tkinter import messagebox, filedialog\n",
    "from PIL import Image, ImageTk\n",
    "import cv2\n",
    "from ultralytics import YOLO"
   ]
  },
  {
   "cell_type": "markdown",
   "id": "6fa4c0e1-8dd3-4f20-8c04-e54375bd048b",
   "metadata": {},
   "source": [
    "# Loading YOLOv8 model"
   ]
  },
  {
   "cell_type": "code",
   "execution_count": 9,
   "id": "79f592f3-fef3-415b-919c-511eb946d514",
   "metadata": {},
   "outputs": [],
   "source": [
    "model = YOLO(\"yolov8n.pt\")"
   ]
  },
  {
   "cell_type": "markdown",
   "id": "ad40f3e3-7873-4a0e-b89b-272a78ae93b4",
   "metadata": {},
   "source": [
    "# GUI window setup"
   ]
  },
  {
   "cell_type": "code",
   "execution_count": 10,
   "id": "0deb5a17-2371-4575-950a-721bb56b6d7c",
   "metadata": {},
   "outputs": [
    {
     "data": {
      "text/plain": [
       "''"
      ]
     },
     "execution_count": 10,
     "metadata": {},
     "output_type": "execute_result"
    }
   ],
   "source": [
    "root = tk.Tk()\n",
    "root.title(\"Single Frame Object Detection\")\n",
    "root.geometry(\"700x650\")\n",
    "root.resizable(False, False)"
   ]
  },
  {
   "cell_type": "markdown",
   "id": "4f90e10e-a89c-4070-827c-b3ed8e0b50e0",
   "metadata": {},
   "source": [
    "# GUI elements"
   ]
  },
  {
   "cell_type": "code",
   "execution_count": 11,
   "id": "2c9beb58-b08a-4317-b7bf-256f73f3006b",
   "metadata": {},
   "outputs": [],
   "source": [
    "image_label = tk.Label(root)\n",
    "image_label.pack(pady=10)\n",
    "\n",
    "detected_label = tk.Label(root, text=\"\", font=(\"Helvetica\", 12), fg=\"blue\", wraplength=750, justify=\"left\")\n",
    "detected_label.pack(pady=5)"
   ]
  },
  {
   "cell_type": "markdown",
   "id": "facf2d74-2303-4927-9a9f-a4b08e24dc0f",
   "metadata": {},
   "source": [
    "# Saving function"
   ]
  },
  {
   "cell_type": "code",
   "execution_count": 12,
   "id": "192a8f07-5065-4f45-b392-a601f44f26fd",
   "metadata": {},
   "outputs": [],
   "source": [
    "last_detected_image = None\n",
    "# Detect function\n",
    "def detect_single_frame():\n",
    "    global last_detected_image\n",
    "\n",
    "    cap = cv2.VideoCapture(0)\n",
    "    cap.set(cv2.CAP_PROP_FRAME_WIDTH, 768)\n",
    "    cap.set(cv2.CAP_PROP_FRAME_HEIGHT, 432)\n",
    "    ret, frame = cap.read()\n",
    "    cap.release()\n",
    "\n",
    "    if not ret:\n",
    "        messagebox.showerror(\"Error\", \"Failed to capture image from webcam.\")\n",
    "        return\n",
    "\n",
    "    results = model.predict(source=frame, conf=0.25)\n",
    "\n",
    "    for r in results:\n",
    "        frame = r.plot()\n",
    "        names = r.names\n",
    "        class_ids = r.boxes.cls.tolist() if r.boxes else []\n",
    "        detected_classes = [names[int(cls_id)] for cls_id in class_ids]\n",
    "        detected_text = \", \".join(sorted(set(detected_classes)))\n",
    "        detected_label.config(text=f\"Detected: {detected_text}\" if detected_classes else \"No objects detected.\")\n",
    "\n",
    "     \n",
    "    rgb_image = cv2.cvtColor(frame, cv2.COLOR_BGR2RGB)\n",
    "    pil_image = Image.fromarray(rgb_image)\n",
    "    tk_image = ImageTk.PhotoImage(pil_image)\n",
    "\n",
    "    last_detected_image = pil_image\n",
    "\n",
    "    image_label.imgtk = tk_image\n",
    "    image_label.configure(image=tk_image)\n"
   ]
  },
  {
   "cell_type": "code",
   "execution_count": 13,
   "id": "5461614c-f45c-4b43-8a5a-dd3694e3b93c",
   "metadata": {},
   "outputs": [],
   "source": [
    "def save_image():\n",
    "    global last_detected_image\n",
    "    if last_detected_image is None:\n",
    "        messagebox.showwarning(\"No Detection\", \"Run a detection before saving.\")\n",
    "        return\n",
    "\n",
    "    file_path = filedialog.asksaveasfilename(defaultextension=\".jpg\", filetypes=[(\"JPEG Image\", \"*.jpg\"), (\"PNG Image\", \"*.png\")])\n",
    "    if file_path:\n",
    "        last_detected_image.save(file_path)\n",
    "        messagebox.showinfo(\"Saved\", f\"Image saved successfully:\\n{file_path}\")\n",
    "\n",
    "\n",
    "def clear_output():\n",
    "    global last_detected_image\n",
    "    image_label.config(image='')\n",
    "    image_label.imgtk = None\n",
    "    detected_label.config(text='')\n",
    "    last_detected_image = None\n"
   ]
  },
  {
   "cell_type": "markdown",
   "id": "db7fdb46-580b-413d-8527-2c038ec4dd88",
   "metadata": {},
   "source": [
    "# Buttons & Starting GUI"
   ]
  },
  {
   "cell_type": "code",
   "execution_count": null,
   "id": "f3e99234-b386-4354-a19f-3d6e05a511b6",
   "metadata": {},
   "outputs": [
    {
     "name": "stdout",
     "output_type": "stream",
     "text": [
      "\n",
      "0: 480x640 2 persons, 1 tv, 85.0ms\n",
      "Speed: 4.9ms preprocess, 85.0ms inference, 1.6ms postprocess per image at shape (1, 3, 480, 640)\n"
     ]
    }
   ],
   "source": [
    "button_frame = tk.Frame(root)\n",
    "button_frame.pack(pady=15)\n",
    "\n",
    "detect_btn = tk.Button(button_frame, text=\"Start Detection\", command=detect_single_frame, bg=\"green\", fg=\"white\", width=20)\n",
    "detect_btn.grid(row=0, column=0, padx=10)\n",
    "\n",
    "save_btn = tk.Button(button_frame, text=\"Save Image\", command=save_image, bg=\"blue\", fg=\"white\", width=12)\n",
    "save_btn.grid(row=0, column=1, padx=10)\n",
    "\n",
    "clear_btn = tk.Button(button_frame, text=\"Clear\", command=clear_output, bg=\"gray\", fg=\"white\", width=10)\n",
    "clear_btn.grid(row=0, column=2, padx=10)\n",
    "\n",
    "exit_btn = tk.Button(button_frame, text=\"Exit\", command=root.destroy, bg=\"red\", fg=\"white\", width=10)\n",
    "exit_btn.grid(row=0, column=3, padx=10)\n",
    "\n",
    "\n",
    "root.mainloop()"
   ]
  },
  {
   "cell_type": "code",
   "execution_count": null,
   "id": "2f4baacb-343e-45c9-bb6c-5024d12dd951",
   "metadata": {},
   "outputs": [],
   "source": []
  }
 ],
 "metadata": {
  "kernelspec": {
   "display_name": "Python 3 (ipykernel)",
   "language": "python",
   "name": "python3"
  },
  "language_info": {
   "codemirror_mode": {
    "name": "ipython",
    "version": 3
   },
   "file_extension": ".py",
   "mimetype": "text/x-python",
   "name": "python",
   "nbconvert_exporter": "python",
   "pygments_lexer": "ipython3",
   "version": "3.13.3"
  }
 },
 "nbformat": 4,
 "nbformat_minor": 5
}
